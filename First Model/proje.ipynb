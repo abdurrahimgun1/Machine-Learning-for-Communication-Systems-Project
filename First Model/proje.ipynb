{
 "cells": [
  {
   "cell_type": "code",
   "execution_count": 1,
   "metadata": {},
   "outputs": [],
   "source": [
    "import numpy as np\n",
    "from model import *\n",
    "from keras.datasets import cifar10\n",
    "from keras.utils import np_utils\n",
    "from keras import metrics\n",
    "from keras.models import Sequential, Model\n",
    "from keras.layers import Dense, Flatten, Conv2D, MaxPooling2D, Input, UpSampling2D, Dropout\n",
    "from keras import metrics\n",
    "from keras.losses import categorical_crossentropy\n",
    "from keras.callbacks import EarlyStopping, ReduceLROnPlateau, ModelCheckpoint\n",
    "from tensorflow.keras.optimizers import Adam\n",
    "import matplotlib.pyplot as plt"
   ]
  },
  {
   "cell_type": "code",
   "execution_count": 2,
   "metadata": {},
   "outputs": [],
   "source": [
    "dataset = np.load('x_train.npy')\n",
    "labels = np.load('y_train.npy')"
   ]
  },
  {
   "cell_type": "code",
   "execution_count": 3,
   "metadata": {},
   "outputs": [],
   "source": [
    "split_index = int(0.9 * len(dataset))\n",
    "x_train, x_val = dataset[:split_index], dataset[split_index:]\n",
    "y_train, y_val = labels[:split_index], labels[split_index:]"
   ]
  },
  {
   "cell_type": "code",
   "execution_count": 72,
   "metadata": {},
   "outputs": [],
   "source": [
    "def create_low_param_model(input_shape, num_classes):\n",
    "    cnn_in = layers.Input(shape=input_shape)\n",
    "    cnn = layers.ZeroPadding1D(padding=4)(cnn_in)\n",
    "    cnn = layers.Conv1D(filters=50, kernel_size=8, activation='relu')(cnn)\n",
    "    cnn = layers.MaxPool1D(pool_size=2)(cnn)\n",
    "    cnn = layers.Conv1D(filters=50, kernel_size=8, activation='relu')(cnn)\n",
    "    cnn = layers.MaxPool1D(pool_size=2)(cnn)\n",
    "    cnn = layers.Conv1D(filters=32, kernel_size=4, activation='relu')(cnn)\n",
    "    cnn = layers.Dropout(rate=0.6)(cnn)\n",
    "    cnn = layers.MaxPool1D(pool_size=2)(cnn)\n",
    "    cnn = layers.Flatten()(cnn)\n",
    "    cnn = layers.Dense(30, activation='selu')(cnn)\n",
    "    cnn_out = layers.Dense(num_classes, activation='softmax')(cnn)\n",
    "    \n",
    "    model = Model(cnn_in, cnn_out)\n",
    "\n",
    "    return model"
   ]
  },
  {
   "cell_type": "code",
   "execution_count": 73,
   "metadata": {},
   "outputs": [],
   "source": [
    "model = create_low_param_model((1024, 2), 24)\n",
    "opt = Adam(learning_rate=0.0007)\n",
    "model.compile(optimizer=opt, loss='categorical_crossentropy', metrics=['accuracy'])"
   ]
  },
  {
   "cell_type": "code",
   "execution_count": 76,
   "metadata": {},
   "outputs": [
    {
     "name": "stdout",
     "output_type": "stream",
     "text": [
      "WARNING:tensorflow:`epsilon` argument is deprecated and will be removed, use `min_delta` instead.\n",
      "Epoch 1/20\n",
      "2212/2212 [==============================] - 408s 185ms/step - loss: 1.2972 - accuracy: 0.4789 - val_loss: 1.0736 - val_accuracy: 0.5453\n",
      "Epoch 2/20\n",
      "2212/2212 [==============================] - 404s 183ms/step - loss: 0.9922 - accuracy: 0.5752 - val_loss: 1.0010 - val_accuracy: 0.5676\n",
      "Epoch 3/20\n",
      "2212/2212 [==============================] - 406s 184ms/step - loss: 0.8661 - accuracy: 0.6373 - val_loss: 0.8337 - val_accuracy: 0.6425\n",
      "Epoch 4/20\n",
      "2212/2212 [==============================] - 406s 183ms/step - loss: 0.7009 - accuracy: 0.7057 - val_loss: 0.6682 - val_accuracy: 0.7258\n",
      "Epoch 5/20\n",
      "2212/2212 [==============================] - 403s 182ms/step - loss: 0.5907 - accuracy: 0.7498 - val_loss: 0.5363 - val_accuracy: 0.7775\n",
      "Epoch 6/20\n",
      "2212/2212 [==============================] - 404s 183ms/step - loss: 0.5226 - accuracy: 0.7746 - val_loss: 0.5196 - val_accuracy: 0.7754\n",
      "Epoch 7/20\n",
      "2212/2212 [==============================] - 402s 182ms/step - loss: 0.4848 - accuracy: 0.7901 - val_loss: 0.4675 - val_accuracy: 0.7898\n",
      "Epoch 8/20\n",
      "2212/2212 [==============================] - 407s 184ms/step - loss: 0.4536 - accuracy: 0.8026 - val_loss: 0.4261 - val_accuracy: 0.8182\n",
      "Epoch 9/20\n",
      "2212/2212 [==============================] - 398s 180ms/step - loss: 0.4292 - accuracy: 0.8124 - val_loss: 0.3849 - val_accuracy: 0.8347\n",
      "Epoch 10/20\n",
      "2212/2212 [==============================] - 384s 174ms/step - loss: 0.4116 - accuracy: 0.8193 - val_loss: 0.3795 - val_accuracy: 0.8375\n",
      "Epoch 11/20\n",
      "2212/2212 [==============================] - 414s 187ms/step - loss: 0.3949 - accuracy: 0.8257 - val_loss: 0.3914 - val_accuracy: 0.8285\n",
      "Epoch 12/20\n",
      "2212/2212 [==============================] - 406s 183ms/step - loss: 0.3840 - accuracy: 0.8302 - val_loss: 0.3437 - val_accuracy: 0.8484\n",
      "Epoch 13/20\n",
      "2212/2212 [==============================] - 406s 184ms/step - loss: 0.3716 - accuracy: 0.8362 - val_loss: 0.3438 - val_accuracy: 0.8518\n",
      "Epoch 14/20\n",
      "2212/2212 [==============================] - 410s 185ms/step - loss: 0.3602 - accuracy: 0.8408 - val_loss: 0.3378 - val_accuracy: 0.8543\n",
      "Epoch 15/20\n",
      "2212/2212 [==============================] - 406s 184ms/step - loss: 0.3510 - accuracy: 0.8448 - val_loss: 0.3179 - val_accuracy: 0.8617\n",
      "Epoch 16/20\n",
      "2212/2212 [==============================] - 402s 182ms/step - loss: 0.3429 - accuracy: 0.8487 - val_loss: 0.2999 - val_accuracy: 0.8720\n",
      "Epoch 17/20\n",
      "2212/2212 [==============================] - 418s 189ms/step - loss: 0.3367 - accuracy: 0.8509 - val_loss: 0.3060 - val_accuracy: 0.8660\n",
      "Epoch 18/20\n",
      "2212/2212 [==============================] - 425s 192ms/step - loss: 0.3267 - accuracy: 0.8550 - val_loss: 0.2920 - val_accuracy: 0.8757\n",
      "Epoch 19/20\n",
      "2212/2212 [==============================] - 424s 192ms/step - loss: 0.3210 - accuracy: 0.8577 - val_loss: 0.2921 - val_accuracy: 0.8688\n",
      "Epoch 20/20\n",
      "2212/2212 [==============================] - 424s 192ms/step - loss: 0.3156 - accuracy: 0.8599 - val_loss: 0.2776 - val_accuracy: 0.8809\n"
     ]
    }
   ],
   "source": [
    "num_epochs = 20\n",
    "\n",
    "mcp_save = ModelCheckpoint('.mdl_wts.hdf5', save_best_only=True, monitor='val_accuracy',save_weights_only=True)\n",
    "reduce_lr_loss = ReduceLROnPlateau(monitor='val_loss', factor=0.1, patience=20, verbose=1, epsilon=1e-4, mode='min')\n",
    "\n",
    "history = model.fit(x_train,\n",
    "                    y_train,\n",
    "                    epochs=num_epochs,\n",
    "                    batch_size=128,\n",
    "                    callbacks = [reduce_lr_loss,mcp_save],\n",
    "                    validation_data=(x_val, y_val))"
   ]
  },
  {
   "cell_type": "code",
   "execution_count": 75,
   "metadata": {},
   "outputs": [
    {
     "name": "stdout",
     "output_type": "stream",
     "text": [
      "Model: \"model_9\"\n",
      "_________________________________________________________________\n",
      "Layer (type)                 Output Shape              Param #   \n",
      "=================================================================\n",
      "input_13 (InputLayer)        [(None, 1024, 2)]         0         \n",
      "_________________________________________________________________\n",
      "zero_padding1d_12 (ZeroPaddi (None, 1032, 2)           0         \n",
      "_________________________________________________________________\n",
      "conv1d_52 (Conv1D)           (None, 1025, 50)          850       \n",
      "_________________________________________________________________\n",
      "max_pooling1d_52 (MaxPooling (None, 512, 50)           0         \n",
      "_________________________________________________________________\n",
      "conv1d_53 (Conv1D)           (None, 505, 50)           20050     \n",
      "_________________________________________________________________\n",
      "max_pooling1d_53 (MaxPooling (None, 252, 50)           0         \n",
      "_________________________________________________________________\n",
      "conv1d_54 (Conv1D)           (None, 249, 32)           6432      \n",
      "_________________________________________________________________\n",
      "dropout_18 (Dropout)         (None, 249, 32)           0         \n",
      "_________________________________________________________________\n",
      "max_pooling1d_54 (MaxPooling (None, 124, 32)           0         \n",
      "_________________________________________________________________\n",
      "flatten_17 (Flatten)         (None, 3968)              0         \n",
      "_________________________________________________________________\n",
      "dense_33 (Dense)             (None, 30)                119070    \n",
      "_________________________________________________________________\n",
      "dense_34 (Dense)             (None, 24)                744       \n",
      "=================================================================\n",
      "Total params: 147,146\n",
      "Trainable params: 147,146\n",
      "Non-trainable params: 0\n",
      "_________________________________________________________________\n"
     ]
    }
   ],
   "source": [
    "model.summary()"
   ]
  },
  {
   "cell_type": "code",
   "execution_count": 77,
   "metadata": {},
   "outputs": [],
   "source": [
    "model.save('first_model.h5')"
   ]
  },
  {
   "cell_type": "markdown",
   "metadata": {},
   "source": [
    "Yukarıdaki kod yardımıyla parametre sayısı 147.146 olan derin öğrenme modeli oluşturulmuştur. Oluşturulan modelin eğitim accuracy değeri %85.99, validasyon skoru ise %88.09'dur. Model eğitildikten sonra 'first_model.h5' ismiyle kaydedilmiştir. Daha sonra modelin yeniden oluşturulabilmesi ve test için gerekli data işlemleri yapılabilmesi için 'model_load.ipynb' dosyası yazılmıştır."
   ]
  },
  {
   "cell_type": "markdown",
   "metadata": {},
   "source": []
  }
 ],
 "metadata": {
  "kernelspec": {
   "display_name": "Python 3.6.15 ('ELE567')",
   "language": "python",
   "name": "python3"
  },
  "language_info": {
   "codemirror_mode": {
    "name": "ipython",
    "version": 3
   },
   "file_extension": ".py",
   "mimetype": "text/x-python",
   "name": "python",
   "nbconvert_exporter": "python",
   "pygments_lexer": "ipython3",
   "version": "3.6.15"
  },
  "orig_nbformat": 4,
  "vscode": {
   "interpreter": {
    "hash": "f3e13e75f02c92500d2e0ab19f844d83380482e0df1b76c9f364a4f9c252ae51"
   }
  }
 },
 "nbformat": 4,
 "nbformat_minor": 2
}
