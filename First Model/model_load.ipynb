{
 "cells": [
  {
   "cell_type": "code",
   "execution_count": 15,
   "metadata": {},
   "outputs": [],
   "source": [
    "import numpy as np\n",
    "from keras.datasets import cifar10\n",
    "from keras.utils import np_utils\n",
    "from keras import metrics\n",
    "from keras.models import Sequential, Model, load_model\n",
    "from keras.layers import Dense, Flatten, Conv2D, MaxPooling2D, Input, UpSampling2D, Dropout\n",
    "from keras import metrics\n",
    "from keras.losses import categorical_crossentropy\n",
    "from keras.callbacks import EarlyStopping, ReduceLROnPlateau, ModelCheckpoint\n",
    "from tensorflow.keras.optimizers import Adam\n",
    "import matplotlib.pyplot as plt\n",
    "from sklearn.model_selection import train_test_split"
   ]
  },
  {
   "cell_type": "code",
   "execution_count": 3,
   "metadata": {},
   "outputs": [],
   "source": [
    "model = load_model('first_model.h5')"
   ]
  },
  {
   "cell_type": "code",
   "execution_count": 5,
   "metadata": {},
   "outputs": [
    {
     "name": "stdout",
     "output_type": "stream",
     "text": [
      "Model: \"model_9\"\n",
      "_________________________________________________________________\n",
      "Layer (type)                 Output Shape              Param #   \n",
      "=================================================================\n",
      "input_13 (InputLayer)        [(None, 1024, 2)]         0         \n",
      "_________________________________________________________________\n",
      "zero_padding1d_12 (ZeroPaddi (None, 1032, 2)           0         \n",
      "_________________________________________________________________\n",
      "conv1d_52 (Conv1D)           (None, 1025, 50)          850       \n",
      "_________________________________________________________________\n",
      "max_pooling1d_52 (MaxPooling (None, 512, 50)           0         \n",
      "_________________________________________________________________\n",
      "conv1d_53 (Conv1D)           (None, 505, 50)           20050     \n",
      "_________________________________________________________________\n",
      "max_pooling1d_53 (MaxPooling (None, 252, 50)           0         \n",
      "_________________________________________________________________\n",
      "conv1d_54 (Conv1D)           (None, 249, 32)           6432      \n",
      "_________________________________________________________________\n",
      "dropout_18 (Dropout)         (None, 249, 32)           0         \n",
      "_________________________________________________________________\n",
      "max_pooling1d_54 (MaxPooling (None, 124, 32)           0         \n",
      "_________________________________________________________________\n",
      "flatten_17 (Flatten)         (None, 3968)              0         \n",
      "_________________________________________________________________\n",
      "dense_33 (Dense)             (None, 30)                119070    \n",
      "_________________________________________________________________\n",
      "dense_34 (Dense)             (None, 24)                744       \n",
      "=================================================================\n",
      "Total params: 147,146\n",
      "Trainable params: 147,146\n",
      "Non-trainable params: 0\n",
      "_________________________________________________________________\n"
     ]
    }
   ],
   "source": [
    "model.summary()"
   ]
  },
  {
   "cell_type": "code",
   "execution_count": 6,
   "metadata": {},
   "outputs": [],
   "source": [
    "dataset = np.load('x_train.npy')\n",
    "labels = np.load('y_train.npy')"
   ]
  },
  {
   "cell_type": "code",
   "execution_count": 16,
   "metadata": {},
   "outputs": [],
   "source": [
    "x_train, x_test, y_train, y_test = train_test_split(dataset, labels, test_size=0.2, random_state=42)"
   ]
  },
  {
   "cell_type": "code",
   "execution_count": 17,
   "metadata": {},
   "outputs": [
    {
     "name": "stdout",
     "output_type": "stream",
     "text": [
      "1967/1967 [==============================] - 34s 17ms/step - loss: 0.2616 - accuracy: 0.8898\n",
      "Test veri kümesi üzerinde kayıp (loss): 0.2615523636341095\n",
      "Test veri kümesi üzerinde doğruluk (accuracy): 0.8898354768753052\n"
     ]
    }
   ],
   "source": [
    "loss, accuracy = model.evaluate(x_test, y_test)\n",
    "print(\"Test veri kümesi üzerinde kayıp (loss):\", loss)\n",
    "print(\"Test veri kümesi üzerinde doğruluk (accuracy):\", accuracy)"
   ]
  },
  {
   "cell_type": "markdown",
   "metadata": {},
   "source": [
    "Yukarıdaki kodda eğitilen model geri yüklenmiş ve train verisinden rastgele seçilen 1967 veri ile modelin performansı ölçülmüştür."
   ]
  },
  {
   "cell_type": "markdown",
   "metadata": {},
   "source": []
  }
 ],
 "metadata": {
  "kernelspec": {
   "display_name": "Python 3.6.15 ('ELE567')",
   "language": "python",
   "name": "python3"
  },
  "language_info": {
   "codemirror_mode": {
    "name": "ipython",
    "version": 3
   },
   "file_extension": ".py",
   "mimetype": "text/x-python",
   "name": "python",
   "nbconvert_exporter": "python",
   "pygments_lexer": "ipython3",
   "version": "3.6.15"
  },
  "orig_nbformat": 4,
  "vscode": {
   "interpreter": {
    "hash": "f3e13e75f02c92500d2e0ab19f844d83380482e0df1b76c9f364a4f9c252ae51"
   }
  }
 },
 "nbformat": 4,
 "nbformat_minor": 2
}
